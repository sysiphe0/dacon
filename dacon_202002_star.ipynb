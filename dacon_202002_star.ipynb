{
  "nbformat": 4,
  "nbformat_minor": 0,
  "metadata": {
    "colab": {
      "name": "dacon_202002_star.ipynb",
      "provenance": [],
      "collapsed_sections": [],
      "authorship_tag": "ABX9TyM8jk79fIvT2xq9HlSTcguu",
      "include_colab_link": true
    },
    "kernelspec": {
      "name": "python3",
      "display_name": "Python 3"
    }
  },
  "cells": [
    {
      "cell_type": "markdown",
      "metadata": {
        "id": "view-in-github",
        "colab_type": "text"
      },
      "source": [
        "<a href=\"https://colab.research.google.com/github/sysiphe0/dacon/blob/master/dacon_202002_star.ipynb\" target=\"_parent\"><img src=\"https://colab.research.google.com/assets/colab-badge.svg\" alt=\"Open In Colab\"/></a>"
      ]
    },
    {
      "cell_type": "code",
      "metadata": {
        "id": "JueP03BP-bpz",
        "colab_type": "code",
        "colab": {}
      },
      "source": [
        "import numpy as np\n",
        "import pandas as pd\n",
        "import seaborn as sns\n",
        "import matplotlib.pyplot as plt\n",
        "%matplotlib inline\n",
        "from sklearn.tree import DecisionTreeClassifier\n",
        "from sklearn.datasets import load_iris\n",
        "from sklearn.model_selection import train_test_split\n",
        "import warnings\n",
        "warnings.filterwarnings('ignore')"
      ],
      "execution_count": 35,
      "outputs": []
    },
    {
      "cell_type": "code",
      "metadata": {
        "id": "U-aUmvQuK8gE",
        "colab_type": "code",
        "colab": {}
      },
      "source": [
        "def makeDataSet() :\n",
        "  train = pd.read_csv(\"/content/train.csv\")\n",
        "  test = pd.read_csv(\"/content/test.csv\")\n",
        "  train = train.dropna()\n",
        "  test = test.dropna()\n",
        "  train_x = train.drop('type', axis=1, inplace=False)\n",
        "  train_y = train['type']\n",
        "  x_train, x_test, y_train, y_test = train_test_split(train_x, train_y, test_size=0.2, random_state=11)\n",
        "  return x_train, x_test, y_train, y_test, test"
      ],
      "execution_count": 14,
      "outputs": []
    },
    {
      "cell_type": "code",
      "metadata": {
        "id": "Td5H65wWEoCU",
        "colab_type": "code",
        "colab": {}
      },
      "source": [
        "x_train, x_test, y_train, y_test, test = makeDataSet()"
      ],
      "execution_count": 15,
      "outputs": []
    },
    {
      "cell_type": "code",
      "metadata": {
        "id": "c2F58w0jE1FF",
        "colab_type": "code",
        "colab": {
          "base_uri": "https://localhost:8080/",
          "height": 269
        },
        "outputId": "f4350575-79fc-4b3d-a5ea-acee99356431"
      },
      "source": [
        "x_test.info"
      ],
      "execution_count": 18,
      "outputs": [
        {
          "output_type": "execute_result",
          "data": {
            "text/plain": [
              "<bound method DataFrame.info of             id  fiberID    psfMag_u  ...  modelMag_r  modelMag_i  modelMag_z\n",
              "177412  177412      323 -235.135173  ...   21.232515   20.230481   20.029349\n",
              "43180    43180      176   20.389093  ...   16.339237   14.897046   14.146092\n",
              "90462    90462      264   20.077889  ...   19.384479   19.500665   19.650582\n",
              "112524  112524      195   20.762379  ...   16.873918   16.459941   16.142141\n",
              "70573    70573      406   21.485195  ...   20.510998   20.534900   20.432714\n",
              "...        ...      ...         ...  ...         ...         ...         ...\n",
              "54451    54451      618   23.577190  ...   21.376256   19.317815   18.183484\n",
              "54358    54358      666   21.776168  ...   21.335139   21.323062   21.384400\n",
              "6173      6173      458   17.317835  ...   16.140425   16.030511   16.035079\n",
              "136132  136132      344   20.663643  ...   20.611765   20.358553   20.065190\n",
              "75153    75153      487   22.641625  ...   21.417723   21.421694   20.975721\n",
              "\n",
              "[39999 rows x 22 columns]>"
            ]
          },
          "metadata": {
            "tags": []
          },
          "execution_count": 18
        }
      ]
    },
    {
      "cell_type": "code",
      "metadata": {
        "id": "vdHH5-2AFN92",
        "colab_type": "code",
        "colab": {}
      },
      "source": [
        "dt_clf = DecisionTreeClassifier(random_state=99)"
      ],
      "execution_count": 11,
      "outputs": []
    },
    {
      "cell_type": "code",
      "metadata": {
        "id": "rkTnfQUxFWi9",
        "colab_type": "code",
        "colab": {
          "base_uri": "https://localhost:8080/",
          "height": 125
        },
        "outputId": "e5d59b02-1ab7-474e-e193-8f085e8c1fee"
      },
      "source": [
        "dt_clf.fit(x_train, y_train)"
      ],
      "execution_count": 19,
      "outputs": [
        {
          "output_type": "execute_result",
          "data": {
            "text/plain": [
              "DecisionTreeClassifier(ccp_alpha=0.0, class_weight=None, criterion='gini',\n",
              "                       max_depth=None, max_features=None, max_leaf_nodes=None,\n",
              "                       min_impurity_decrease=0.0, min_impurity_split=None,\n",
              "                       min_samples_leaf=1, min_samples_split=2,\n",
              "                       min_weight_fraction_leaf=0.0, presort='deprecated',\n",
              "                       random_state=99, splitter='best')"
            ]
          },
          "metadata": {
            "tags": []
          },
          "execution_count": 19
        }
      ]
    },
    {
      "cell_type": "code",
      "metadata": {
        "id": "NaTe_8chHA0U",
        "colab_type": "code",
        "colab": {}
      },
      "source": [
        "pred = dt_clf.predict(x_test)"
      ],
      "execution_count": 20,
      "outputs": []
    },
    {
      "cell_type": "code",
      "metadata": {
        "id": "UYC150tiGjU0",
        "colab_type": "code",
        "colab": {}
      },
      "source": [
        "from sklearn.metrics import accuracy_score"
      ],
      "execution_count": 23,
      "outputs": []
    },
    {
      "cell_type": "code",
      "metadata": {
        "id": "KxqL8StUGaZN",
        "colab_type": "code",
        "colab": {}
      },
      "source": [
        "accuracy = accuracy_score(y_test, pred)"
      ],
      "execution_count": 24,
      "outputs": []
    },
    {
      "cell_type": "code",
      "metadata": {
        "id": "rpM7dR1eGfkz",
        "colab_type": "code",
        "colab": {
          "base_uri": "https://localhost:8080/",
          "height": 35
        },
        "outputId": "34266bb3-1e66-4604-c9cc-773800a660fb"
      },
      "source": [
        "accuracy"
      ],
      "execution_count": 25,
      "outputs": [
        {
          "output_type": "execute_result",
          "data": {
            "text/plain": [
              "0.8175204380109503"
            ]
          },
          "metadata": {
            "tags": []
          },
          "execution_count": 25
        }
      ]
    },
    {
      "cell_type": "code",
      "metadata": {
        "id": "1vKlGGErG1xS",
        "colab_type": "code",
        "colab": {}
      },
      "source": [
        "from sklearn.model_selection import GridSearchCV"
      ],
      "execution_count": 26,
      "outputs": []
    },
    {
      "cell_type": "code",
      "metadata": {
        "id": "HV79bnWFG7-z",
        "colab_type": "code",
        "colab": {}
      },
      "source": [
        "params = {\n",
        "    'max_depth' : [6,8,10,12,16,20,24]\n",
        "}"
      ],
      "execution_count": 27,
      "outputs": []
    },
    {
      "cell_type": "code",
      "metadata": {
        "id": "Im4pc_35HDrK",
        "colab_type": "code",
        "colab": {}
      },
      "source": [
        "grid_cv = GridSearchCV(dt_clf, param_grid=params, scoring='accuracy', cv = 5, verbose=1)"
      ],
      "execution_count": 28,
      "outputs": []
    },
    {
      "cell_type": "code",
      "metadata": {
        "id": "ZfIIfi0kHLMC",
        "colab_type": "code",
        "colab": {
          "base_uri": "https://localhost:8080/",
          "height": 377
        },
        "outputId": "d77fd0c5-a22a-4120-dea1-720d6fdb2f14"
      },
      "source": [
        "grid_cv.fit(x_train, y_train)"
      ],
      "execution_count": 29,
      "outputs": [
        {
          "output_type": "stream",
          "text": [
            "Fitting 5 folds for each of 7 candidates, totalling 35 fits\n"
          ],
          "name": "stdout"
        },
        {
          "output_type": "stream",
          "text": [
            "[Parallel(n_jobs=1)]: Using backend SequentialBackend with 1 concurrent workers.\n",
            "[Parallel(n_jobs=1)]: Done  35 out of  35 | elapsed:  4.2min finished\n"
          ],
          "name": "stderr"
        },
        {
          "output_type": "execute_result",
          "data": {
            "text/plain": [
              "GridSearchCV(cv=5, error_score=nan,\n",
              "             estimator=DecisionTreeClassifier(ccp_alpha=0.0, class_weight=None,\n",
              "                                              criterion='gini', max_depth=None,\n",
              "                                              max_features=None,\n",
              "                                              max_leaf_nodes=None,\n",
              "                                              min_impurity_decrease=0.0,\n",
              "                                              min_impurity_split=None,\n",
              "                                              min_samples_leaf=1,\n",
              "                                              min_samples_split=2,\n",
              "                                              min_weight_fraction_leaf=0.0,\n",
              "                                              presort='deprecated',\n",
              "                                              random_state=99,\n",
              "                                              splitter='best'),\n",
              "             iid='deprecated', n_jobs=None,\n",
              "             param_grid={'max_depth': [6, 8, 10, 12, 16, 20, 24]},\n",
              "             pre_dispatch='2*n_jobs', refit=True, return_train_score=False,\n",
              "             scoring='accuracy', verbose=1)"
            ]
          },
          "metadata": {
            "tags": []
          },
          "execution_count": 29
        }
      ]
    },
    {
      "cell_type": "code",
      "metadata": {
        "id": "pUHuuXZ5HNzK",
        "colab_type": "code",
        "colab": {
          "base_uri": "https://localhost:8080/",
          "height": 35
        },
        "outputId": "e86dc9c0-1503-4b40-e937-cc2199119569"
      },
      "source": [
        "grid_cv.best_score_"
      ],
      "execution_count": 30,
      "outputs": [
        {
          "output_type": "execute_result",
          "data": {
            "text/plain": [
              "0.8480299099368107"
            ]
          },
          "metadata": {
            "tags": []
          },
          "execution_count": 30
        }
      ]
    },
    {
      "cell_type": "code",
      "metadata": {
        "id": "x9dVwawHITx6",
        "colab_type": "code",
        "colab": {
          "base_uri": "https://localhost:8080/",
          "height": 35
        },
        "outputId": "3c05f992-b2d9-477b-b517-911aabdf36b8"
      },
      "source": [
        "grid_cv.best_params_"
      ],
      "execution_count": 31,
      "outputs": [
        {
          "output_type": "execute_result",
          "data": {
            "text/plain": [
              "{'max_depth': 12}"
            ]
          },
          "metadata": {
            "tags": []
          },
          "execution_count": 31
        }
      ]
    },
    {
      "cell_type": "code",
      "metadata": {
        "id": "uYo090ffIYGj",
        "colab_type": "code",
        "colab": {}
      },
      "source": [
        "corr = x_train.corr(method='pearson')"
      ],
      "execution_count": 33,
      "outputs": []
    },
    {
      "cell_type": "code",
      "metadata": {
        "id": "q2gcE63gI2PT",
        "colab_type": "code",
        "colab": {
          "base_uri": "https://localhost:8080/",
          "height": 751
        },
        "outputId": "78336548-f45f-4209-dced-522bd635b6e5"
      },
      "source": [
        "corr"
      ],
      "execution_count": 34,
      "outputs": [
        {
          "output_type": "execute_result",
          "data": {
            "text/html": [
              "<div>\n",
              "<style scoped>\n",
              "    .dataframe tbody tr th:only-of-type {\n",
              "        vertical-align: middle;\n",
              "    }\n",
              "\n",
              "    .dataframe tbody tr th {\n",
              "        vertical-align: top;\n",
              "    }\n",
              "\n",
              "    .dataframe thead th {\n",
              "        text-align: right;\n",
              "    }\n",
              "</style>\n",
              "<table border=\"1\" class=\"dataframe\">\n",
              "  <thead>\n",
              "    <tr style=\"text-align: right;\">\n",
              "      <th></th>\n",
              "      <th>id</th>\n",
              "      <th>fiberID</th>\n",
              "      <th>psfMag_u</th>\n",
              "      <th>psfMag_g</th>\n",
              "      <th>psfMag_r</th>\n",
              "      <th>psfMag_i</th>\n",
              "      <th>psfMag_z</th>\n",
              "      <th>fiberMag_u</th>\n",
              "      <th>fiberMag_g</th>\n",
              "      <th>fiberMag_r</th>\n",
              "      <th>fiberMag_i</th>\n",
              "      <th>fiberMag_z</th>\n",
              "      <th>petroMag_u</th>\n",
              "      <th>petroMag_g</th>\n",
              "      <th>petroMag_r</th>\n",
              "      <th>petroMag_i</th>\n",
              "      <th>petroMag_z</th>\n",
              "      <th>modelMag_u</th>\n",
              "      <th>modelMag_g</th>\n",
              "      <th>modelMag_r</th>\n",
              "      <th>modelMag_i</th>\n",
              "      <th>modelMag_z</th>\n",
              "    </tr>\n",
              "  </thead>\n",
              "  <tbody>\n",
              "    <tr>\n",
              "      <th>id</th>\n",
              "      <td>1.000000</td>\n",
              "      <td>-0.000032</td>\n",
              "      <td>-0.001660</td>\n",
              "      <td>0.001060</td>\n",
              "      <td>-0.000664</td>\n",
              "      <td>-0.000616</td>\n",
              "      <td>0.002945</td>\n",
              "      <td>-0.001598</td>\n",
              "      <td>-0.001952</td>\n",
              "      <td>-0.001440</td>\n",
              "      <td>0.000979</td>\n",
              "      <td>0.000568</td>\n",
              "      <td>0.001815</td>\n",
              "      <td>0.001906</td>\n",
              "      <td>0.000251</td>\n",
              "      <td>0.000830</td>\n",
              "      <td>0.001098</td>\n",
              "      <td>-0.000501</td>\n",
              "      <td>0.000292</td>\n",
              "      <td>0.001748</td>\n",
              "      <td>-0.001044</td>\n",
              "      <td>0.002627</td>\n",
              "    </tr>\n",
              "    <tr>\n",
              "      <th>fiberID</th>\n",
              "      <td>-0.000032</td>\n",
              "      <td>1.000000</td>\n",
              "      <td>0.002973</td>\n",
              "      <td>0.004665</td>\n",
              "      <td>0.001416</td>\n",
              "      <td>0.005115</td>\n",
              "      <td>0.004985</td>\n",
              "      <td>0.003035</td>\n",
              "      <td>0.000763</td>\n",
              "      <td>0.004228</td>\n",
              "      <td>0.003314</td>\n",
              "      <td>0.005197</td>\n",
              "      <td>-0.002159</td>\n",
              "      <td>0.002846</td>\n",
              "      <td>0.003216</td>\n",
              "      <td>0.004900</td>\n",
              "      <td>0.001636</td>\n",
              "      <td>0.001350</td>\n",
              "      <td>0.002355</td>\n",
              "      <td>0.001301</td>\n",
              "      <td>0.005822</td>\n",
              "      <td>0.003739</td>\n",
              "    </tr>\n",
              "    <tr>\n",
              "      <th>psfMag_u</th>\n",
              "      <td>-0.001660</td>\n",
              "      <td>0.002973</td>\n",
              "      <td>1.000000</td>\n",
              "      <td>0.006060</td>\n",
              "      <td>0.006143</td>\n",
              "      <td>0.006464</td>\n",
              "      <td>0.006423</td>\n",
              "      <td>0.999779</td>\n",
              "      <td>0.001058</td>\n",
              "      <td>0.005832</td>\n",
              "      <td>0.007339</td>\n",
              "      <td>0.005949</td>\n",
              "      <td>-0.984567</td>\n",
              "      <td>0.005185</td>\n",
              "      <td>0.006408</td>\n",
              "      <td>0.006161</td>\n",
              "      <td>0.005139</td>\n",
              "      <td>0.004112</td>\n",
              "      <td>0.005209</td>\n",
              "      <td>0.007186</td>\n",
              "      <td>0.005251</td>\n",
              "      <td>0.006939</td>\n",
              "    </tr>\n",
              "    <tr>\n",
              "      <th>psfMag_g</th>\n",
              "      <td>0.001060</td>\n",
              "      <td>0.004665</td>\n",
              "      <td>0.006060</td>\n",
              "      <td>1.000000</td>\n",
              "      <td>0.682335</td>\n",
              "      <td>0.549209</td>\n",
              "      <td>0.603601</td>\n",
              "      <td>0.017265</td>\n",
              "      <td>0.124555</td>\n",
              "      <td>0.274116</td>\n",
              "      <td>0.617608</td>\n",
              "      <td>0.459512</td>\n",
              "      <td>0.123716</td>\n",
              "      <td>0.522482</td>\n",
              "      <td>0.414119</td>\n",
              "      <td>0.750666</td>\n",
              "      <td>0.524474</td>\n",
              "      <td>0.322144</td>\n",
              "      <td>0.753191</td>\n",
              "      <td>0.473614</td>\n",
              "      <td>0.495235</td>\n",
              "      <td>0.559828</td>\n",
              "    </tr>\n",
              "    <tr>\n",
              "      <th>psfMag_r</th>\n",
              "      <td>-0.000664</td>\n",
              "      <td>0.001416</td>\n",
              "      <td>0.006143</td>\n",
              "      <td>0.682335</td>\n",
              "      <td>1.000000</td>\n",
              "      <td>0.399012</td>\n",
              "      <td>0.338232</td>\n",
              "      <td>0.007229</td>\n",
              "      <td>0.090502</td>\n",
              "      <td>0.362861</td>\n",
              "      <td>0.497059</td>\n",
              "      <td>0.352231</td>\n",
              "      <td>0.094676</td>\n",
              "      <td>0.470511</td>\n",
              "      <td>0.518289</td>\n",
              "      <td>0.458384</td>\n",
              "      <td>0.727842</td>\n",
              "      <td>0.427847</td>\n",
              "      <td>0.622277</td>\n",
              "      <td>0.527207</td>\n",
              "      <td>0.544735</td>\n",
              "      <td>0.437632</td>\n",
              "    </tr>\n",
              "    <tr>\n",
              "      <th>psfMag_i</th>\n",
              "      <td>-0.000616</td>\n",
              "      <td>0.005115</td>\n",
              "      <td>0.006464</td>\n",
              "      <td>0.549209</td>\n",
              "      <td>0.399012</td>\n",
              "      <td>1.000000</td>\n",
              "      <td>0.579729</td>\n",
              "      <td>0.008207</td>\n",
              "      <td>0.111174</td>\n",
              "      <td>0.440716</td>\n",
              "      <td>0.508518</td>\n",
              "      <td>0.275083</td>\n",
              "      <td>0.065752</td>\n",
              "      <td>0.623712</td>\n",
              "      <td>0.549613</td>\n",
              "      <td>0.630863</td>\n",
              "      <td>0.359807</td>\n",
              "      <td>0.623470</td>\n",
              "      <td>0.618422</td>\n",
              "      <td>0.215359</td>\n",
              "      <td>0.542230</td>\n",
              "      <td>0.540329</td>\n",
              "    </tr>\n",
              "    <tr>\n",
              "      <th>psfMag_z</th>\n",
              "      <td>0.002945</td>\n",
              "      <td>0.004985</td>\n",
              "      <td>0.006423</td>\n",
              "      <td>0.603601</td>\n",
              "      <td>0.338232</td>\n",
              "      <td>0.579729</td>\n",
              "      <td>1.000000</td>\n",
              "      <td>0.010502</td>\n",
              "      <td>0.096405</td>\n",
              "      <td>0.224482</td>\n",
              "      <td>0.427337</td>\n",
              "      <td>0.423372</td>\n",
              "      <td>0.115706</td>\n",
              "      <td>0.494701</td>\n",
              "      <td>0.448112</td>\n",
              "      <td>0.678734</td>\n",
              "      <td>0.581327</td>\n",
              "      <td>0.163479</td>\n",
              "      <td>0.512257</td>\n",
              "      <td>0.244028</td>\n",
              "      <td>0.596869</td>\n",
              "      <td>0.592663</td>\n",
              "    </tr>\n",
              "    <tr>\n",
              "      <th>fiberMag_u</th>\n",
              "      <td>-0.001598</td>\n",
              "      <td>0.003035</td>\n",
              "      <td>0.999779</td>\n",
              "      <td>0.017265</td>\n",
              "      <td>0.007229</td>\n",
              "      <td>0.008207</td>\n",
              "      <td>0.010502</td>\n",
              "      <td>1.000000</td>\n",
              "      <td>0.001862</td>\n",
              "      <td>-0.000368</td>\n",
              "      <td>0.009326</td>\n",
              "      <td>0.007920</td>\n",
              "      <td>-0.983425</td>\n",
              "      <td>0.009272</td>\n",
              "      <td>0.006790</td>\n",
              "      <td>0.013380</td>\n",
              "      <td>0.007761</td>\n",
              "      <td>0.005908</td>\n",
              "      <td>0.010540</td>\n",
              "      <td>0.011725</td>\n",
              "      <td>0.000068</td>\n",
              "      <td>0.011714</td>\n",
              "    </tr>\n",
              "    <tr>\n",
              "      <th>fiberMag_g</th>\n",
              "      <td>-0.001952</td>\n",
              "      <td>0.000763</td>\n",
              "      <td>0.001058</td>\n",
              "      <td>0.124555</td>\n",
              "      <td>0.090502</td>\n",
              "      <td>0.111174</td>\n",
              "      <td>0.096405</td>\n",
              "      <td>0.001862</td>\n",
              "      <td>1.000000</td>\n",
              "      <td>0.046767</td>\n",
              "      <td>0.095612</td>\n",
              "      <td>0.070862</td>\n",
              "      <td>0.015883</td>\n",
              "      <td>0.073370</td>\n",
              "      <td>0.061165</td>\n",
              "      <td>0.118740</td>\n",
              "      <td>0.082484</td>\n",
              "      <td>0.076385</td>\n",
              "      <td>0.095166</td>\n",
              "      <td>0.061660</td>\n",
              "      <td>0.078042</td>\n",
              "      <td>0.095282</td>\n",
              "    </tr>\n",
              "    <tr>\n",
              "      <th>fiberMag_r</th>\n",
              "      <td>-0.001440</td>\n",
              "      <td>0.004228</td>\n",
              "      <td>0.005832</td>\n",
              "      <td>0.274116</td>\n",
              "      <td>0.362861</td>\n",
              "      <td>0.440716</td>\n",
              "      <td>0.224482</td>\n",
              "      <td>-0.000368</td>\n",
              "      <td>0.046767</td>\n",
              "      <td>1.000000</td>\n",
              "      <td>0.468858</td>\n",
              "      <td>0.273764</td>\n",
              "      <td>0.075044</td>\n",
              "      <td>0.366145</td>\n",
              "      <td>0.186118</td>\n",
              "      <td>0.187326</td>\n",
              "      <td>0.129566</td>\n",
              "      <td>0.325121</td>\n",
              "      <td>0.380462</td>\n",
              "      <td>0.280391</td>\n",
              "      <td>0.484622</td>\n",
              "      <td>0.334749</td>\n",
              "    </tr>\n",
              "    <tr>\n",
              "      <th>fiberMag_i</th>\n",
              "      <td>0.000979</td>\n",
              "      <td>0.003314</td>\n",
              "      <td>0.007339</td>\n",
              "      <td>0.617608</td>\n",
              "      <td>0.497059</td>\n",
              "      <td>0.508518</td>\n",
              "      <td>0.427337</td>\n",
              "      <td>0.009326</td>\n",
              "      <td>0.095612</td>\n",
              "      <td>0.468858</td>\n",
              "      <td>1.000000</td>\n",
              "      <td>0.471475</td>\n",
              "      <td>0.063865</td>\n",
              "      <td>0.486267</td>\n",
              "      <td>0.404060</td>\n",
              "      <td>0.570045</td>\n",
              "      <td>0.239324</td>\n",
              "      <td>0.368087</td>\n",
              "      <td>0.497219</td>\n",
              "      <td>0.769555</td>\n",
              "      <td>0.358715</td>\n",
              "      <td>0.634352</td>\n",
              "    </tr>\n",
              "    <tr>\n",
              "      <th>fiberMag_z</th>\n",
              "      <td>0.000568</td>\n",
              "      <td>0.005197</td>\n",
              "      <td>0.005949</td>\n",
              "      <td>0.459512</td>\n",
              "      <td>0.352231</td>\n",
              "      <td>0.275083</td>\n",
              "      <td>0.423372</td>\n",
              "      <td>0.007920</td>\n",
              "      <td>0.070862</td>\n",
              "      <td>0.273764</td>\n",
              "      <td>0.471475</td>\n",
              "      <td>1.000000</td>\n",
              "      <td>0.100146</td>\n",
              "      <td>0.256912</td>\n",
              "      <td>0.414953</td>\n",
              "      <td>0.542562</td>\n",
              "      <td>0.377712</td>\n",
              "      <td>0.395146</td>\n",
              "      <td>0.031277</td>\n",
              "      <td>0.416847</td>\n",
              "      <td>0.453290</td>\n",
              "      <td>0.599784</td>\n",
              "    </tr>\n",
              "    <tr>\n",
              "      <th>petroMag_u</th>\n",
              "      <td>0.001815</td>\n",
              "      <td>-0.002159</td>\n",
              "      <td>-0.984567</td>\n",
              "      <td>0.123716</td>\n",
              "      <td>0.094676</td>\n",
              "      <td>0.065752</td>\n",
              "      <td>0.115706</td>\n",
              "      <td>-0.983425</td>\n",
              "      <td>0.015883</td>\n",
              "      <td>0.075044</td>\n",
              "      <td>0.063865</td>\n",
              "      <td>0.100146</td>\n",
              "      <td>1.000000</td>\n",
              "      <td>0.051302</td>\n",
              "      <td>0.044967</td>\n",
              "      <td>0.083520</td>\n",
              "      <td>0.111714</td>\n",
              "      <td>0.023625</td>\n",
              "      <td>0.081494</td>\n",
              "      <td>0.063897</td>\n",
              "      <td>0.087368</td>\n",
              "      <td>0.109670</td>\n",
              "    </tr>\n",
              "    <tr>\n",
              "      <th>petroMag_g</th>\n",
              "      <td>0.001906</td>\n",
              "      <td>0.002846</td>\n",
              "      <td>0.005185</td>\n",
              "      <td>0.522482</td>\n",
              "      <td>0.470511</td>\n",
              "      <td>0.623712</td>\n",
              "      <td>0.494701</td>\n",
              "      <td>0.009272</td>\n",
              "      <td>0.073370</td>\n",
              "      <td>0.366145</td>\n",
              "      <td>0.486267</td>\n",
              "      <td>0.256912</td>\n",
              "      <td>0.051302</td>\n",
              "      <td>1.000000</td>\n",
              "      <td>0.543918</td>\n",
              "      <td>0.294575</td>\n",
              "      <td>0.397963</td>\n",
              "      <td>0.547053</td>\n",
              "      <td>0.651912</td>\n",
              "      <td>0.186950</td>\n",
              "      <td>0.611763</td>\n",
              "      <td>0.643861</td>\n",
              "    </tr>\n",
              "    <tr>\n",
              "      <th>petroMag_r</th>\n",
              "      <td>0.000251</td>\n",
              "      <td>0.003216</td>\n",
              "      <td>0.006408</td>\n",
              "      <td>0.414119</td>\n",
              "      <td>0.518289</td>\n",
              "      <td>0.549613</td>\n",
              "      <td>0.448112</td>\n",
              "      <td>0.006790</td>\n",
              "      <td>0.061165</td>\n",
              "      <td>0.186118</td>\n",
              "      <td>0.404060</td>\n",
              "      <td>0.414953</td>\n",
              "      <td>0.044967</td>\n",
              "      <td>0.543918</td>\n",
              "      <td>1.000000</td>\n",
              "      <td>0.418846</td>\n",
              "      <td>0.515021</td>\n",
              "      <td>0.465164</td>\n",
              "      <td>0.593498</td>\n",
              "      <td>0.474439</td>\n",
              "      <td>0.463171</td>\n",
              "      <td>0.304410</td>\n",
              "    </tr>\n",
              "    <tr>\n",
              "      <th>petroMag_i</th>\n",
              "      <td>0.000830</td>\n",
              "      <td>0.004900</td>\n",
              "      <td>0.006161</td>\n",
              "      <td>0.750666</td>\n",
              "      <td>0.458384</td>\n",
              "      <td>0.630863</td>\n",
              "      <td>0.678734</td>\n",
              "      <td>0.013380</td>\n",
              "      <td>0.118740</td>\n",
              "      <td>0.187326</td>\n",
              "      <td>0.570045</td>\n",
              "      <td>0.542562</td>\n",
              "      <td>0.083520</td>\n",
              "      <td>0.294575</td>\n",
              "      <td>0.418846</td>\n",
              "      <td>1.000000</td>\n",
              "      <td>0.375829</td>\n",
              "      <td>0.393554</td>\n",
              "      <td>0.414681</td>\n",
              "      <td>0.377702</td>\n",
              "      <td>0.428903</td>\n",
              "      <td>0.396284</td>\n",
              "    </tr>\n",
              "    <tr>\n",
              "      <th>petroMag_z</th>\n",
              "      <td>0.001098</td>\n",
              "      <td>0.001636</td>\n",
              "      <td>0.005139</td>\n",
              "      <td>0.524474</td>\n",
              "      <td>0.727842</td>\n",
              "      <td>0.359807</td>\n",
              "      <td>0.581327</td>\n",
              "      <td>0.007761</td>\n",
              "      <td>0.082484</td>\n",
              "      <td>0.129566</td>\n",
              "      <td>0.239324</td>\n",
              "      <td>0.377712</td>\n",
              "      <td>0.111714</td>\n",
              "      <td>0.397963</td>\n",
              "      <td>0.515021</td>\n",
              "      <td>0.375829</td>\n",
              "      <td>1.000000</td>\n",
              "      <td>0.394225</td>\n",
              "      <td>0.510742</td>\n",
              "      <td>0.428370</td>\n",
              "      <td>0.372767</td>\n",
              "      <td>0.572179</td>\n",
              "    </tr>\n",
              "    <tr>\n",
              "      <th>modelMag_u</th>\n",
              "      <td>-0.000501</td>\n",
              "      <td>0.001350</td>\n",
              "      <td>0.004112</td>\n",
              "      <td>0.322144</td>\n",
              "      <td>0.427847</td>\n",
              "      <td>0.623470</td>\n",
              "      <td>0.163479</td>\n",
              "      <td>0.005908</td>\n",
              "      <td>0.076385</td>\n",
              "      <td>0.325121</td>\n",
              "      <td>0.368087</td>\n",
              "      <td>0.395146</td>\n",
              "      <td>0.023625</td>\n",
              "      <td>0.547053</td>\n",
              "      <td>0.465164</td>\n",
              "      <td>0.393554</td>\n",
              "      <td>0.394225</td>\n",
              "      <td>1.000000</td>\n",
              "      <td>0.361134</td>\n",
              "      <td>0.280393</td>\n",
              "      <td>0.350413</td>\n",
              "      <td>0.410394</td>\n",
              "    </tr>\n",
              "    <tr>\n",
              "      <th>modelMag_g</th>\n",
              "      <td>0.000292</td>\n",
              "      <td>0.002355</td>\n",
              "      <td>0.005209</td>\n",
              "      <td>0.753191</td>\n",
              "      <td>0.622277</td>\n",
              "      <td>0.618422</td>\n",
              "      <td>0.512257</td>\n",
              "      <td>0.010540</td>\n",
              "      <td>0.095166</td>\n",
              "      <td>0.380462</td>\n",
              "      <td>0.497219</td>\n",
              "      <td>0.031277</td>\n",
              "      <td>0.081494</td>\n",
              "      <td>0.651912</td>\n",
              "      <td>0.593498</td>\n",
              "      <td>0.414681</td>\n",
              "      <td>0.510742</td>\n",
              "      <td>0.361134</td>\n",
              "      <td>1.000000</td>\n",
              "      <td>0.393302</td>\n",
              "      <td>0.507527</td>\n",
              "      <td>0.347355</td>\n",
              "    </tr>\n",
              "    <tr>\n",
              "      <th>modelMag_r</th>\n",
              "      <td>0.001748</td>\n",
              "      <td>0.001301</td>\n",
              "      <td>0.007186</td>\n",
              "      <td>0.473614</td>\n",
              "      <td>0.527207</td>\n",
              "      <td>0.215359</td>\n",
              "      <td>0.244028</td>\n",
              "      <td>0.011725</td>\n",
              "      <td>0.061660</td>\n",
              "      <td>0.280391</td>\n",
              "      <td>0.769555</td>\n",
              "      <td>0.416847</td>\n",
              "      <td>0.063897</td>\n",
              "      <td>0.186950</td>\n",
              "      <td>0.474439</td>\n",
              "      <td>0.377702</td>\n",
              "      <td>0.428370</td>\n",
              "      <td>0.280393</td>\n",
              "      <td>0.393302</td>\n",
              "      <td>1.000000</td>\n",
              "      <td>-0.022084</td>\n",
              "      <td>0.478379</td>\n",
              "    </tr>\n",
              "    <tr>\n",
              "      <th>modelMag_i</th>\n",
              "      <td>-0.001044</td>\n",
              "      <td>0.005822</td>\n",
              "      <td>0.005251</td>\n",
              "      <td>0.495235</td>\n",
              "      <td>0.544735</td>\n",
              "      <td>0.542230</td>\n",
              "      <td>0.596869</td>\n",
              "      <td>0.000068</td>\n",
              "      <td>0.078042</td>\n",
              "      <td>0.484622</td>\n",
              "      <td>0.358715</td>\n",
              "      <td>0.453290</td>\n",
              "      <td>0.087368</td>\n",
              "      <td>0.611763</td>\n",
              "      <td>0.463171</td>\n",
              "      <td>0.428903</td>\n",
              "      <td>0.372767</td>\n",
              "      <td>0.350413</td>\n",
              "      <td>0.507527</td>\n",
              "      <td>-0.022084</td>\n",
              "      <td>1.000000</td>\n",
              "      <td>0.372543</td>\n",
              "    </tr>\n",
              "    <tr>\n",
              "      <th>modelMag_z</th>\n",
              "      <td>0.002627</td>\n",
              "      <td>0.003739</td>\n",
              "      <td>0.006939</td>\n",
              "      <td>0.559828</td>\n",
              "      <td>0.437632</td>\n",
              "      <td>0.540329</td>\n",
              "      <td>0.592663</td>\n",
              "      <td>0.011714</td>\n",
              "      <td>0.095282</td>\n",
              "      <td>0.334749</td>\n",
              "      <td>0.634352</td>\n",
              "      <td>0.599784</td>\n",
              "      <td>0.109670</td>\n",
              "      <td>0.643861</td>\n",
              "      <td>0.304410</td>\n",
              "      <td>0.396284</td>\n",
              "      <td>0.572179</td>\n",
              "      <td>0.410394</td>\n",
              "      <td>0.347355</td>\n",
              "      <td>0.478379</td>\n",
              "      <td>0.372543</td>\n",
              "      <td>1.000000</td>\n",
              "    </tr>\n",
              "  </tbody>\n",
              "</table>\n",
              "</div>"
            ],
            "text/plain": [
              "                  id   fiberID  psfMag_u  ...  modelMag_r  modelMag_i  modelMag_z\n",
              "id          1.000000 -0.000032 -0.001660  ...    0.001748   -0.001044    0.002627\n",
              "fiberID    -0.000032  1.000000  0.002973  ...    0.001301    0.005822    0.003739\n",
              "psfMag_u   -0.001660  0.002973  1.000000  ...    0.007186    0.005251    0.006939\n",
              "psfMag_g    0.001060  0.004665  0.006060  ...    0.473614    0.495235    0.559828\n",
              "psfMag_r   -0.000664  0.001416  0.006143  ...    0.527207    0.544735    0.437632\n",
              "psfMag_i   -0.000616  0.005115  0.006464  ...    0.215359    0.542230    0.540329\n",
              "psfMag_z    0.002945  0.004985  0.006423  ...    0.244028    0.596869    0.592663\n",
              "fiberMag_u -0.001598  0.003035  0.999779  ...    0.011725    0.000068    0.011714\n",
              "fiberMag_g -0.001952  0.000763  0.001058  ...    0.061660    0.078042    0.095282\n",
              "fiberMag_r -0.001440  0.004228  0.005832  ...    0.280391    0.484622    0.334749\n",
              "fiberMag_i  0.000979  0.003314  0.007339  ...    0.769555    0.358715    0.634352\n",
              "fiberMag_z  0.000568  0.005197  0.005949  ...    0.416847    0.453290    0.599784\n",
              "petroMag_u  0.001815 -0.002159 -0.984567  ...    0.063897    0.087368    0.109670\n",
              "petroMag_g  0.001906  0.002846  0.005185  ...    0.186950    0.611763    0.643861\n",
              "petroMag_r  0.000251  0.003216  0.006408  ...    0.474439    0.463171    0.304410\n",
              "petroMag_i  0.000830  0.004900  0.006161  ...    0.377702    0.428903    0.396284\n",
              "petroMag_z  0.001098  0.001636  0.005139  ...    0.428370    0.372767    0.572179\n",
              "modelMag_u -0.000501  0.001350  0.004112  ...    0.280393    0.350413    0.410394\n",
              "modelMag_g  0.000292  0.002355  0.005209  ...    0.393302    0.507527    0.347355\n",
              "modelMag_r  0.001748  0.001301  0.007186  ...    1.000000   -0.022084    0.478379\n",
              "modelMag_i -0.001044  0.005822  0.005251  ...   -0.022084    1.000000    0.372543\n",
              "modelMag_z  0.002627  0.003739  0.006939  ...    0.478379    0.372543    1.000000\n",
              "\n",
              "[22 rows x 22 columns]"
            ]
          },
          "metadata": {
            "tags": []
          },
          "execution_count": 34
        }
      ]
    },
    {
      "cell_type": "code",
      "metadata": {
        "id": "QwBXf3wII5Bi",
        "colab_type": "code",
        "colab": {
          "base_uri": "https://localhost:8080/",
          "height": 676
        },
        "outputId": "9b75bfa8-de60-4d60-ca16-7295563ebddc"
      },
      "source": [
        "sns.set(rc={'figure.figsize':(12,10)})\n",
        "sns.heatmap(corr)"
      ],
      "execution_count": 36,
      "outputs": [
        {
          "output_type": "execute_result",
          "data": {
            "text/plain": [
              "<matplotlib.axes._subplots.AxesSubplot at 0x7f607a064b70>"
            ]
          },
          "metadata": {
            "tags": []
          },
          "execution_count": 36
        },
        {
          "output_type": "display_data",
          "data": {
            "image/png": "[encoded data removed]",
            "text/plain": [
              "<Figure size 864x720 with 2 Axes>"
            ]
          },
          "metadata": {
            "tags": []
          }
        }
      ]
    },
    {
      "cell_type": "code",
      "metadata": {
        "id": "DWqjPGmDJ3X4",
        "colab_type": "code",
        "colab": {}
      },
      "source": [
        "from sklearn.ensemble import VotingClassifier\n",
        "from sklearn.linear_model import LogisticRegression\n",
        "from sklearn.neighbors import KNeighborsClassifier"
      ],
      "execution_count": 37,
      "outputs": []
    },
    {
      "cell_type": "code",
      "metadata": {
        "id": "q20PuUpYMBw_",
        "colab_type": "code",
        "colab": {}
      },
      "source": [
        "lr_clf = LogisticRegression()\n",
        "knn_clf = KNeighborsClassifier(n_neighbors=8)\n",
        "\n",
        "vo_clf = VotingClassifier(estimators=[('LR', lr_clf), ('KNN', knn_clf)], voting='soft')"
      ],
      "execution_count": 39,
      "outputs": []
    },
    {
      "cell_type": "code",
      "metadata": {
        "id": "RDLBJINvMUh6",
        "colab_type": "code",
        "colab": {
          "base_uri": "https://localhost:8080/",
          "height": 359
        },
        "outputId": "86a48f16-90df-49cc-ae94-30f2ff18384f"
      },
      "source": [
        "vo_clf.fit(x_train, y_train)"
      ],
      "execution_count": 40,
      "outputs": [
        {
          "output_type": "execute_result",
          "data": {
            "text/plain": [
              "VotingClassifier(estimators=[('LR',\n",
              "                              LogisticRegression(C=1.0, class_weight=None,\n",
              "                                                 dual=False, fit_intercept=True,\n",
              "                                                 intercept_scaling=1,\n",
              "                                                 l1_ratio=None, max_iter=100,\n",
              "                                                 multi_class='auto',\n",
              "                                                 n_jobs=None, penalty='l2',\n",
              "                                                 random_state=None,\n",
              "                                                 solver='lbfgs', tol=0.0001,\n",
              "                                                 verbose=0, warm_start=False)),\n",
              "                             ('KNN',\n",
              "                              KNeighborsClassifier(algorithm='auto',\n",
              "                                                   leaf_size=30,\n",
              "                                                   metric='minkowski',\n",
              "                                                   metric_params=None,\n",
              "                                                   n_jobs=None, n_neighbors=8,\n",
              "                                                   p=2, weights='uniform'))],\n",
              "                 flatten_transform=True, n_jobs=None, voting='soft',\n",
              "                 weights=None)"
            ]
          },
          "metadata": {
            "tags": []
          },
          "execution_count": 40
        }
      ]
    },
    {
      "cell_type": "code",
      "metadata": {
        "id": "jnrAA8olMZ24",
        "colab_type": "code",
        "colab": {}
      },
      "source": [
        "pred = vo_clf.predict(x_test)"
      ],
      "execution_count": 41,
      "outputs": []
    },
    {
      "cell_type": "code",
      "metadata": {
        "id": "XbIYpVfwMkNy",
        "colab_type": "code",
        "colab": {}
      },
      "source": [
        "accuracy = accuracy_score(y_test, pred)"
      ],
      "execution_count": 42,
      "outputs": []
    },
    {
      "cell_type": "code",
      "metadata": {
        "id": "p_hhXd5lMopa",
        "colab_type": "code",
        "colab": {
          "base_uri": "https://localhost:8080/",
          "height": 35
        },
        "outputId": "82dce89e-ed00-4f8b-ff7c-adc27bd846cf"
      },
      "source": [
        "accuracy"
      ],
      "execution_count": 43,
      "outputs": [
        {
          "output_type": "execute_result",
          "data": {
            "text/plain": [
              "0.2452811320283007"
            ]
          },
          "metadata": {
            "tags": []
          },
          "execution_count": 43
        }
      ]
    },
    {
      "cell_type": "code",
      "metadata": {
        "id": "O_O8bBeQMpj6",
        "colab_type": "code",
        "colab": {
          "base_uri": "https://localhost:8080/",
          "height": 53
        },
        "outputId": "ebddd29c-d0a8-4175-9404-514b625f4411"
      },
      "source": [
        "classifiers = [lr_clf, knn_clf]\n",
        "for classifier in classifiers:\n",
        "  classifier.fit(x_train, y_train)\n",
        "  pred = classifier.predict(x_test)\n",
        "  class_name = classifier.__class__.__name__\n",
        "  print('{0} 정확도 : {1:.4f}'.format(class_name, accuracy_score(y_test, pred)))"
      ],
      "execution_count": 44,
      "outputs": [
        {
          "output_type": "stream",
          "text": [
            "LogisticRegression 정확도 : 0.2529\n",
            "KNeighborsClassifier 정확도 : 0.2362\n"
          ],
          "name": "stdout"
        }
      ]
    },
    {
      "cell_type": "code",
      "metadata": {
        "id": "gEwXmFNdNKlP",
        "colab_type": "code",
        "colab": {}
      },
      "source": [
        "from sklearn.ensemble import RandomForestClassifier"
      ],
      "execution_count": 45,
      "outputs": []
    },
    {
      "cell_type": "code",
      "metadata": {
        "id": "q9DXCFAtNhZ7",
        "colab_type": "code",
        "colab": {
          "base_uri": "https://localhost:8080/",
          "height": 161
        },
        "outputId": "7a9d5901-57ee-43c1-f142-bb6adfadaf49"
      },
      "source": [
        "rf_clf = RandomForestClassifier(random_state=99)\n",
        "rf_clf.fit(x_train, y_train)"
      ],
      "execution_count": 46,
      "outputs": [
        {
          "output_type": "execute_result",
          "data": {
            "text/plain": [
              "RandomForestClassifier(bootstrap=True, ccp_alpha=0.0, class_weight=None,\n",
              "                       criterion='gini', max_depth=None, max_features='auto',\n",
              "                       max_leaf_nodes=None, max_samples=None,\n",
              "                       min_impurity_decrease=0.0, min_impurity_split=None,\n",
              "                       min_samples_leaf=1, min_samples_split=2,\n",
              "                       min_weight_fraction_leaf=0.0, n_estimators=100,\n",
              "                       n_jobs=None, oob_score=False, random_state=99, verbose=0,\n",
              "                       warm_start=False)"
            ]
          },
          "metadata": {
            "tags": []
          },
          "execution_count": 46
        }
      ]
    },
    {
      "cell_type": "code",
      "metadata": {
        "id": "QLV_Vo_sNos7",
        "colab_type": "code",
        "colab": {}
      },
      "source": [
        "pred = rf_clf.predict(x_test)"
      ],
      "execution_count": 48,
      "outputs": []
    },
    {
      "cell_type": "code",
      "metadata": {
        "id": "9cAWqd89OXaq",
        "colab_type": "code",
        "colab": {}
      },
      "source": [
        "accuracy = accuracy_score(y_test, pred)"
      ],
      "execution_count": 49,
      "outputs": []
    },
    {
      "cell_type": "code",
      "metadata": {
        "id": "HxwnOm2kOfty",
        "colab_type": "code",
        "colab": {
          "base_uri": "https://localhost:8080/",
          "height": 35
        },
        "outputId": "0706f6d6-5cc1-44fe-e26a-9578e96ff2f2"
      },
      "source": [
        "accuracy"
      ],
      "execution_count": 50,
      "outputs": [
        {
          "output_type": "execute_result",
          "data": {
            "text/plain": [
              "0.8774219355483888"
            ]
          },
          "metadata": {
            "tags": []
          },
          "execution_count": 50
        }
      ]
    },
    {
      "cell_type": "code",
      "metadata": {
        "id": "ZAdldeKpOg9j",
        "colab_type": "code",
        "colab": {}
      },
      "source": [
        "ftr_importances_values = rf_clf.feature_importances_\n",
        "ftr_importances = pd.Series(ftr_importances_values, index=x_train.columns)\n",
        "ftr_top20 = ftr_importances.sort_values(ascending=False)[:20]"
      ],
      "execution_count": 53,
      "outputs": []
    },
    {
      "cell_type": "code",
      "metadata": {
        "id": "1Bbg34JOP5In",
        "colab_type": "code",
        "colab": {
          "base_uri": "https://localhost:8080/",
          "height": 377
        },
        "outputId": "a5f70d7c-019c-4978-8ef1-d504cc9021a1"
      },
      "source": [
        "plt.figure(figsize=(8,6))\n",
        "sns.barplot(x=ftr_top20, y=ftr_top20.index)\n",
        "plt.show()"
      ],
      "execution_count": 54,
      "outputs": [
        {
          "output_type": "display_data",
          "data": {
            "image/png": "[encoded data removed]",
            "text/plain": [
              "<Figure size 576x432 with 1 Axes>"
            ]
          },
          "metadata": {
            "tags": []
          }
        }
      ]
    },
    {
      "cell_type": "code",
      "metadata": {
        "id": "KG078IvRQU90",
        "colab_type": "code",
        "colab": {}
      },
      "source": [
        "from sklearn.ensemble import GradientBoostingClassifier\n",
        "import time\n"
      ],
      "execution_count": 55,
      "outputs": []
    },
    {
      "cell_type": "code",
      "metadata": {
        "id": "gyI5JlzLQm3B",
        "colab_type": "code",
        "colab": {
          "base_uri": "https://localhost:8080/",
          "height": 394
        },
        "outputId": "21e10fbe-0cba-4040-9b84-4ddb903753ff"
      },
      "source": [
        "start_time = time.time()\n",
        "gb_clf = GradientBoostingClassifier(random_state=99)\n",
        "gb_clf.fit(x_train, y_train)\n",
        "gb_pred = gb_clf.predict(x_test)\n",
        "gb_accuracy = accuracy_score(y_test, gb_pred)\n",
        "\n",
        "gb_accuracy\n",
        "time.time()-start_time"
      ],
      "execution_count": 58,
      "outputs": [
        {
          "output_type": "error",
          "ename": "KeyboardInterrupt",
          "evalue": "ignored",
          "traceback": [
            "\u001b[0;31m---------------------------------------------------------------------------\u001b[0m",
            "\u001b[0;31mKeyboardInterrupt\u001b[0m                         Traceback (most recent call last)",
            "\u001b[0;32m<ipython-input-58-65f22c07880f>\u001b[0m in \u001b[0;36m<module>\u001b[0;34m()\u001b[0m\n\u001b[1;32m      1\u001b[0m \u001b[0mstart_time\u001b[0m \u001b[0;34m=\u001b[0m \u001b[0mtime\u001b[0m\u001b[0;34m.\u001b[0m\u001b[0mtime\u001b[0m\u001b[0;34m(\u001b[0m\u001b[0;34m)\u001b[0m\u001b[0;34m\u001b[0m\u001b[0;34m\u001b[0m\u001b[0m\n\u001b[1;32m      2\u001b[0m \u001b[0mgb_clf\u001b[0m \u001b[0;34m=\u001b[0m \u001b[0mGradientBoostingClassifier\u001b[0m\u001b[0;34m(\u001b[0m\u001b[0mrandom_state\u001b[0m\u001b[0;34m=\u001b[0m\u001b[0;36m99\u001b[0m\u001b[0;34m)\u001b[0m\u001b[0;34m\u001b[0m\u001b[0;34m\u001b[0m\u001b[0m\n\u001b[0;32m----> 3\u001b[0;31m \u001b[0mgb_clf\u001b[0m\u001b[0;34m.\u001b[0m\u001b[0mfit\u001b[0m\u001b[0;34m(\u001b[0m\u001b[0mx_train\u001b[0m\u001b[0;34m,\u001b[0m \u001b[0my_train\u001b[0m\u001b[0;34m)\u001b[0m\u001b[0;34m\u001b[0m\u001b[0;34m\u001b[0m\u001b[0m\n\u001b[0m\u001b[1;32m      4\u001b[0m \u001b[0mgb_pred\u001b[0m \u001b[0;34m=\u001b[0m \u001b[0mgb_clf\u001b[0m\u001b[0;34m.\u001b[0m\u001b[0mpredict\u001b[0m\u001b[0;34m(\u001b[0m\u001b[0mx_test\u001b[0m\u001b[0;34m)\u001b[0m\u001b[0;34m\u001b[0m\u001b[0;34m\u001b[0m\u001b[0m\n\u001b[1;32m      5\u001b[0m \u001b[0mgb_accuracy\u001b[0m \u001b[0;34m=\u001b[0m \u001b[0maccuracy_score\u001b[0m\u001b[0;34m(\u001b[0m\u001b[0my_test\u001b[0m\u001b[0;34m,\u001b[0m \u001b[0mgb_pred\u001b[0m\u001b[0;34m)\u001b[0m\u001b[0;34m\u001b[0m\u001b[0;34m\u001b[0m\u001b[0m\n",
            "\u001b[0;32m/usr/local/lib/python3.6/dist-packages/sklearn/ensemble/_gb.py\u001b[0m in \u001b[0;36mfit\u001b[0;34m(self, X, y, sample_weight, monitor)\u001b[0m\n\u001b[1;32m   1535\u001b[0m         n_stages = self._fit_stages(\n\u001b[1;32m   1536\u001b[0m             \u001b[0mX\u001b[0m\u001b[0;34m,\u001b[0m \u001b[0my\u001b[0m\u001b[0;34m,\u001b[0m \u001b[0mraw_predictions\u001b[0m\u001b[0;34m,\u001b[0m \u001b[0msample_weight\u001b[0m\u001b[0;34m,\u001b[0m \u001b[0mself\u001b[0m\u001b[0;34m.\u001b[0m\u001b[0m_rng\u001b[0m\u001b[0;34m,\u001b[0m \u001b[0mX_val\u001b[0m\u001b[0;34m,\u001b[0m \u001b[0my_val\u001b[0m\u001b[0;34m,\u001b[0m\u001b[0;34m\u001b[0m\u001b[0;34m\u001b[0m\u001b[0m\n\u001b[0;32m-> 1537\u001b[0;31m             sample_weight_val, begin_at_stage, monitor, X_idx_sorted)\n\u001b[0m\u001b[1;32m   1538\u001b[0m \u001b[0;34m\u001b[0m\u001b[0m\n\u001b[1;32m   1539\u001b[0m         \u001b[0;31m# change shape of arrays after fit (early-stopping or additional ests)\u001b[0m\u001b[0;34m\u001b[0m\u001b[0;34m\u001b[0m\u001b[0;34m\u001b[0m\u001b[0m\n",
            "\u001b[0;32m/usr/local/lib/python3.6/dist-packages/sklearn/ensemble/_gb.py\u001b[0m in \u001b[0;36m_fit_stages\u001b[0;34m(self, X, y, raw_predictions, sample_weight, random_state, X_val, y_val, sample_weight_val, begin_at_stage, monitor, X_idx_sorted)\u001b[0m\n\u001b[1;32m   1592\u001b[0m             raw_predictions = self._fit_stage(\n\u001b[1;32m   1593\u001b[0m                 \u001b[0mi\u001b[0m\u001b[0;34m,\u001b[0m \u001b[0mX\u001b[0m\u001b[0;34m,\u001b[0m \u001b[0my\u001b[0m\u001b[0;34m,\u001b[0m \u001b[0mraw_predictions\u001b[0m\u001b[0;34m,\u001b[0m \u001b[0msample_weight\u001b[0m\u001b[0;34m,\u001b[0m \u001b[0msample_mask\u001b[0m\u001b[0;34m,\u001b[0m\u001b[0;34m\u001b[0m\u001b[0;34m\u001b[0m\u001b[0m\n\u001b[0;32m-> 1594\u001b[0;31m                 random_state, X_idx_sorted, X_csc, X_csr)\n\u001b[0m\u001b[1;32m   1595\u001b[0m \u001b[0;34m\u001b[0m\u001b[0m\n\u001b[1;32m   1596\u001b[0m             \u001b[0;31m# track deviance (= loss)\u001b[0m\u001b[0;34m\u001b[0m\u001b[0;34m\u001b[0m\u001b[0;34m\u001b[0m\u001b[0m\n",
            "\u001b[0;32m/usr/local/lib/python3.6/dist-packages/sklearn/ensemble/_gb.py\u001b[0m in \u001b[0;36m_fit_stage\u001b[0;34m(self, i, X, y, raw_predictions, sample_weight, sample_mask, random_state, X_idx_sorted, X_csc, X_csr)\u001b[0m\n\u001b[1;32m   1243\u001b[0m             \u001b[0mX\u001b[0m \u001b[0;34m=\u001b[0m \u001b[0mX_csr\u001b[0m \u001b[0;32mif\u001b[0m \u001b[0mX_csr\u001b[0m \u001b[0;32mis\u001b[0m \u001b[0;32mnot\u001b[0m \u001b[0;32mNone\u001b[0m \u001b[0;32melse\u001b[0m \u001b[0mX\u001b[0m\u001b[0;34m\u001b[0m\u001b[0;34m\u001b[0m\u001b[0m\n\u001b[1;32m   1244\u001b[0m             tree.fit(X, residual, sample_weight=sample_weight,\n\u001b[0;32m-> 1245\u001b[0;31m                      check_input=False, X_idx_sorted=X_idx_sorted)\n\u001b[0m\u001b[1;32m   1246\u001b[0m \u001b[0;34m\u001b[0m\u001b[0m\n\u001b[1;32m   1247\u001b[0m             \u001b[0;31m# update tree leaves\u001b[0m\u001b[0;34m\u001b[0m\u001b[0;34m\u001b[0m\u001b[0;34m\u001b[0m\u001b[0m\n",
            "\u001b[0;32m/usr/local/lib/python3.6/dist-packages/sklearn/tree/_classes.py\u001b[0m in \u001b[0;36mfit\u001b[0;34m(self, X, y, sample_weight, check_input, X_idx_sorted)\u001b[0m\n\u001b[1;32m   1223\u001b[0m             \u001b[0msample_weight\u001b[0m\u001b[0;34m=\u001b[0m\u001b[0msample_weight\u001b[0m\u001b[0;34m,\u001b[0m\u001b[0;34m\u001b[0m\u001b[0;34m\u001b[0m\u001b[0m\n\u001b[1;32m   1224\u001b[0m             \u001b[0mcheck_input\u001b[0m\u001b[0;34m=\u001b[0m\u001b[0mcheck_input\u001b[0m\u001b[0;34m,\u001b[0m\u001b[0;34m\u001b[0m\u001b[0;34m\u001b[0m\u001b[0m\n\u001b[0;32m-> 1225\u001b[0;31m             X_idx_sorted=X_idx_sorted)\n\u001b[0m\u001b[1;32m   1226\u001b[0m         \u001b[0;32mreturn\u001b[0m \u001b[0mself\u001b[0m\u001b[0;34m\u001b[0m\u001b[0;34m\u001b[0m\u001b[0m\n\u001b[1;32m   1227\u001b[0m \u001b[0;34m\u001b[0m\u001b[0m\n",
            "\u001b[0;32m/usr/local/lib/python3.6/dist-packages/sklearn/tree/_classes.py\u001b[0m in \u001b[0;36mfit\u001b[0;34m(self, X, y, sample_weight, check_input, X_idx_sorted)\u001b[0m\n\u001b[1;32m    365\u001b[0m                                            min_impurity_split)\n\u001b[1;32m    366\u001b[0m \u001b[0;34m\u001b[0m\u001b[0m\n\u001b[0;32m--> 367\u001b[0;31m         \u001b[0mbuilder\u001b[0m\u001b[0;34m.\u001b[0m\u001b[0mbuild\u001b[0m\u001b[0;34m(\u001b[0m\u001b[0mself\u001b[0m\u001b[0;34m.\u001b[0m\u001b[0mtree_\u001b[0m\u001b[0;34m,\u001b[0m \u001b[0mX\u001b[0m\u001b[0;34m,\u001b[0m \u001b[0my\u001b[0m\u001b[0;34m,\u001b[0m \u001b[0msample_weight\u001b[0m\u001b[0;34m,\u001b[0m \u001b[0mX_idx_sorted\u001b[0m\u001b[0;34m)\u001b[0m\u001b[0;34m\u001b[0m\u001b[0;34m\u001b[0m\u001b[0m\n\u001b[0m\u001b[1;32m    368\u001b[0m \u001b[0;34m\u001b[0m\u001b[0m\n\u001b[1;32m    369\u001b[0m         \u001b[0;32mif\u001b[0m \u001b[0mself\u001b[0m\u001b[0;34m.\u001b[0m\u001b[0mn_outputs_\u001b[0m \u001b[0;34m==\u001b[0m \u001b[0;36m1\u001b[0m \u001b[0;32mand\u001b[0m \u001b[0mis_classifier\u001b[0m\u001b[0;34m(\u001b[0m\u001b[0mself\u001b[0m\u001b[0;34m)\u001b[0m\u001b[0;34m:\u001b[0m\u001b[0;34m\u001b[0m\u001b[0;34m\u001b[0m\u001b[0m\n",
            "\u001b[0;31mKeyboardInterrupt\u001b[0m: "
          ]
        }
      ]
    },
    {
      "cell_type": "code",
      "metadata": {
        "id": "ONYnnQyPQoO6",
        "colab_type": "code",
        "colab": {}
      },
      "source": [
        "import xgboost as xgb"
      ],
      "execution_count": 59,
      "outputs": []
    },
    {
      "cell_type": "code",
      "metadata": {
        "id": "5dGbTzcgU8nc",
        "colab_type": "code",
        "colab": {}
      },
      "source": [
        "from xgboost import XGBClassifier"
      ],
      "execution_count": 60,
      "outputs": []
    },
    {
      "cell_type": "code",
      "metadata": {
        "id": "Q1OCOSNTU_MR",
        "colab_type": "code",
        "colab": {}
      },
      "source": [
        "from sklearn.metrics import log_loss"
      ],
      "execution_count": 61,
      "outputs": []
    },
    {
      "cell_type": "code",
      "metadata": {
        "id": "RLJMlznLVStS",
        "colab_type": "code",
        "colab": {
          "base_uri": "https://localhost:8080/",
          "height": 394
        },
        "outputId": "b8bc3b13-e53a-48a6-d92c-06002e90f8f1"
      },
      "source": [
        "xgb_clf = XGBClassifier(n_estimators=400, learning_rate=0.1, max_depth=3)\n",
        "xgb_clf.fit(x_train, y_train)\n",
        "pred = xgb_clf.predict(x_test)\n",
        "accuracy = accuracy_score(y_test, pred)\n",
        "accuracy"
      ],
      "execution_count": 63,
      "outputs": [
        {
          "output_type": "error",
          "ename": "KeyboardInterrupt",
          "evalue": "ignored",
          "traceback": [
            "\u001b[0;31m---------------------------------------------------------------------------\u001b[0m",
            "\u001b[0;31mKeyboardInterrupt\u001b[0m                         Traceback (most recent call last)",
            "\u001b[0;32m<ipython-input-63-fbcf4f8c653a>\u001b[0m in \u001b[0;36m<module>\u001b[0;34m()\u001b[0m\n\u001b[1;32m      1\u001b[0m \u001b[0mxgb_clf\u001b[0m \u001b[0;34m=\u001b[0m \u001b[0mXGBClassifier\u001b[0m\u001b[0;34m(\u001b[0m\u001b[0mn_estimators\u001b[0m\u001b[0;34m=\u001b[0m\u001b[0;36m400\u001b[0m\u001b[0;34m,\u001b[0m \u001b[0mlearning_rate\u001b[0m\u001b[0;34m=\u001b[0m\u001b[0;36m0.1\u001b[0m\u001b[0;34m,\u001b[0m \u001b[0mmax_depth\u001b[0m\u001b[0;34m=\u001b[0m\u001b[0;36m3\u001b[0m\u001b[0;34m)\u001b[0m\u001b[0;34m\u001b[0m\u001b[0;34m\u001b[0m\u001b[0m\n\u001b[0;32m----> 2\u001b[0;31m \u001b[0mxgb_clf\u001b[0m\u001b[0;34m.\u001b[0m\u001b[0mfit\u001b[0m\u001b[0;34m(\u001b[0m\u001b[0mx_train\u001b[0m\u001b[0;34m,\u001b[0m \u001b[0my_train\u001b[0m\u001b[0;34m)\u001b[0m\u001b[0;34m\u001b[0m\u001b[0;34m\u001b[0m\u001b[0m\n\u001b[0m\u001b[1;32m      3\u001b[0m \u001b[0mpred\u001b[0m \u001b[0;34m=\u001b[0m \u001b[0mxgb_clf\u001b[0m\u001b[0;34m.\u001b[0m\u001b[0mpredict\u001b[0m\u001b[0;34m(\u001b[0m\u001b[0mx_test\u001b[0m\u001b[0;34m)\u001b[0m\u001b[0;34m\u001b[0m\u001b[0;34m\u001b[0m\u001b[0m\n\u001b[1;32m      4\u001b[0m \u001b[0maccuracy\u001b[0m \u001b[0;34m=\u001b[0m \u001b[0maccuracy_score\u001b[0m\u001b[0;34m(\u001b[0m\u001b[0my_test\u001b[0m\u001b[0;34m,\u001b[0m \u001b[0mpred\u001b[0m\u001b[0;34m)\u001b[0m\u001b[0;34m\u001b[0m\u001b[0;34m\u001b[0m\u001b[0m\n\u001b[1;32m      5\u001b[0m \u001b[0maccuracy\u001b[0m\u001b[0;34m\u001b[0m\u001b[0;34m\u001b[0m\u001b[0m\n",
            "\u001b[0;32m/usr/local/lib/python3.6/dist-packages/xgboost/sklearn.py\u001b[0m in \u001b[0;36mfit\u001b[0;34m(self, X, y, sample_weight, eval_set, eval_metric, early_stopping_rounds, verbose, xgb_model, sample_weight_eval_set, callbacks)\u001b[0m\n\u001b[1;32m    730\u001b[0m                               \u001b[0mevals_result\u001b[0m\u001b[0;34m=\u001b[0m\u001b[0mevals_result\u001b[0m\u001b[0;34m,\u001b[0m \u001b[0mobj\u001b[0m\u001b[0;34m=\u001b[0m\u001b[0mobj\u001b[0m\u001b[0;34m,\u001b[0m \u001b[0mfeval\u001b[0m\u001b[0;34m=\u001b[0m\u001b[0mfeval\u001b[0m\u001b[0;34m,\u001b[0m\u001b[0;34m\u001b[0m\u001b[0;34m\u001b[0m\u001b[0m\n\u001b[1;32m    731\u001b[0m                               \u001b[0mverbose_eval\u001b[0m\u001b[0;34m=\u001b[0m\u001b[0mverbose\u001b[0m\u001b[0;34m,\u001b[0m \u001b[0mxgb_model\u001b[0m\u001b[0;34m=\u001b[0m\u001b[0mxgb_model\u001b[0m\u001b[0;34m,\u001b[0m\u001b[0;34m\u001b[0m\u001b[0;34m\u001b[0m\u001b[0m\n\u001b[0;32m--> 732\u001b[0;31m                               callbacks=callbacks)\n\u001b[0m\u001b[1;32m    733\u001b[0m \u001b[0;34m\u001b[0m\u001b[0m\n\u001b[1;32m    734\u001b[0m         \u001b[0mself\u001b[0m\u001b[0;34m.\u001b[0m\u001b[0mobjective\u001b[0m \u001b[0;34m=\u001b[0m \u001b[0mxgb_options\u001b[0m\u001b[0;34m[\u001b[0m\u001b[0;34m\"objective\"\u001b[0m\u001b[0;34m]\u001b[0m\u001b[0;34m\u001b[0m\u001b[0;34m\u001b[0m\u001b[0m\n",
            "\u001b[0;32m/usr/local/lib/python3.6/dist-packages/xgboost/training.py\u001b[0m in \u001b[0;36mtrain\u001b[0;34m(params, dtrain, num_boost_round, evals, obj, feval, maximize, early_stopping_rounds, evals_result, verbose_eval, xgb_model, callbacks, learning_rates)\u001b[0m\n\u001b[1;32m    214\u001b[0m                            \u001b[0mevals\u001b[0m\u001b[0;34m=\u001b[0m\u001b[0mevals\u001b[0m\u001b[0;34m,\u001b[0m\u001b[0;34m\u001b[0m\u001b[0;34m\u001b[0m\u001b[0m\n\u001b[1;32m    215\u001b[0m                            \u001b[0mobj\u001b[0m\u001b[0;34m=\u001b[0m\u001b[0mobj\u001b[0m\u001b[0;34m,\u001b[0m \u001b[0mfeval\u001b[0m\u001b[0;34m=\u001b[0m\u001b[0mfeval\u001b[0m\u001b[0;34m,\u001b[0m\u001b[0;34m\u001b[0m\u001b[0;34m\u001b[0m\u001b[0m\n\u001b[0;32m--> 216\u001b[0;31m                            xgb_model=xgb_model, callbacks=callbacks)\n\u001b[0m\u001b[1;32m    217\u001b[0m \u001b[0;34m\u001b[0m\u001b[0m\n\u001b[1;32m    218\u001b[0m \u001b[0;34m\u001b[0m\u001b[0m\n",
            "\u001b[0;32m/usr/local/lib/python3.6/dist-packages/xgboost/training.py\u001b[0m in \u001b[0;36m_train_internal\u001b[0;34m(params, dtrain, num_boost_round, evals, obj, feval, xgb_model, callbacks)\u001b[0m\n\u001b[1;32m     72\u001b[0m         \u001b[0;31m# Skip the first update if it is a recovery step.\u001b[0m\u001b[0;34m\u001b[0m\u001b[0;34m\u001b[0m\u001b[0;34m\u001b[0m\u001b[0m\n\u001b[1;32m     73\u001b[0m         \u001b[0;32mif\u001b[0m \u001b[0mversion\u001b[0m \u001b[0;34m%\u001b[0m \u001b[0;36m2\u001b[0m \u001b[0;34m==\u001b[0m \u001b[0;36m0\u001b[0m\u001b[0;34m:\u001b[0m\u001b[0;34m\u001b[0m\u001b[0;34m\u001b[0m\u001b[0m\n\u001b[0;32m---> 74\u001b[0;31m             \u001b[0mbst\u001b[0m\u001b[0;34m.\u001b[0m\u001b[0mupdate\u001b[0m\u001b[0;34m(\u001b[0m\u001b[0mdtrain\u001b[0m\u001b[0;34m,\u001b[0m \u001b[0mi\u001b[0m\u001b[0;34m,\u001b[0m \u001b[0mobj\u001b[0m\u001b[0;34m)\u001b[0m\u001b[0;34m\u001b[0m\u001b[0;34m\u001b[0m\u001b[0m\n\u001b[0m\u001b[1;32m     75\u001b[0m             \u001b[0mbst\u001b[0m\u001b[0;34m.\u001b[0m\u001b[0msave_rabit_checkpoint\u001b[0m\u001b[0;34m(\u001b[0m\u001b[0;34m)\u001b[0m\u001b[0;34m\u001b[0m\u001b[0;34m\u001b[0m\u001b[0m\n\u001b[1;32m     76\u001b[0m             \u001b[0mversion\u001b[0m \u001b[0;34m+=\u001b[0m \u001b[0;36m1\u001b[0m\u001b[0;34m\u001b[0m\u001b[0;34m\u001b[0m\u001b[0m\n",
            "\u001b[0;32m/usr/local/lib/python3.6/dist-packages/xgboost/core.py\u001b[0m in \u001b[0;36mupdate\u001b[0;34m(self, dtrain, iteration, fobj)\u001b[0m\n\u001b[1;32m   1107\u001b[0m         \u001b[0;32mif\u001b[0m \u001b[0mfobj\u001b[0m \u001b[0;32mis\u001b[0m \u001b[0;32mNone\u001b[0m\u001b[0;34m:\u001b[0m\u001b[0;34m\u001b[0m\u001b[0;34m\u001b[0m\u001b[0m\n\u001b[1;32m   1108\u001b[0m             _check_call(_LIB.XGBoosterUpdateOneIter(self.handle, ctypes.c_int(iteration),\n\u001b[0;32m-> 1109\u001b[0;31m                                                     dtrain.handle))\n\u001b[0m\u001b[1;32m   1110\u001b[0m         \u001b[0;32melse\u001b[0m\u001b[0;34m:\u001b[0m\u001b[0;34m\u001b[0m\u001b[0;34m\u001b[0m\u001b[0m\n\u001b[1;32m   1111\u001b[0m             \u001b[0mpred\u001b[0m \u001b[0;34m=\u001b[0m \u001b[0mself\u001b[0m\u001b[0;34m.\u001b[0m\u001b[0mpredict\u001b[0m\u001b[0;34m(\u001b[0m\u001b[0mdtrain\u001b[0m\u001b[0;34m)\u001b[0m\u001b[0;34m\u001b[0m\u001b[0;34m\u001b[0m\u001b[0m\n",
            "\u001b[0;31mKeyboardInterrupt\u001b[0m: "
          ]
        }
      ]
    },
    {
      "cell_type": "code",
      "metadata": {
        "id": "GjzP0UhEWhgL",
        "colab_type": "code",
        "colab": {}
      },
      "source": [
        ""
      ],
      "execution_count": null,
      "outputs": []
    }
  ]
}