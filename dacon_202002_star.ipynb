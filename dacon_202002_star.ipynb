{
  "nbformat": 4,
  "nbformat_minor": 0,
  "metadata": {
    "colab": {
      "name": "dacon_202002_star.ipynb",
      "provenance": [],
      "collapsed_sections": [],
      "authorship_tag": "ABX9TyMPI0+kPXgxKX8brawbMWWR",
      "include_colab_link": true
    },
    "kernelspec": {
      "name": "python3",
      "display_name": "Python 3"
    }
  },
  "cells": [
    {
      "cell_type": "markdown",
      "metadata": {
        "id": "view-in-github",
        "colab_type": "text"
      },
      "source": [
        "<a href=\"https://colab.research.google.com/github/sysiphe0/dacon/blob/master/dacon_202002_star.ipynb\" target=\"_parent\"><img src=\"https://colab.research.google.com/assets/colab-badge.svg\" alt=\"Open In Colab\"/></a>"
      ]
    },
    {
      "cell_type": "code",
      "metadata": {
        "id": "JueP03BP-bpz",
        "colab_type": "code",
        "colab": {
          "base_uri": "https://localhost:8080/",
          "height": 53
        },
        "outputId": "549a9624-60cc-41d3-ee00-eec913c33631"
      },
      "source": [
        "import numpy as np\n",
        "import pandas as pd\n",
        "import seaborn as sns\n",
        "import matplotlib.pyplot as plt\n",
        "%matplotlib inline\n",
        "from sklearn.tree import DecisionTreeClassifier\n",
        "from sklearn.datasets import load_iris\n",
        "from sklearn.model_selection import train_test_split\n",
        "from sklearn.metrics import accuracy_score\n",
        "import warnings\n",
        "warnings.filterwarnings('ignore')"
      ],
      "execution_count": 1,
      "outputs": [
        {
          "output_type": "stream",
          "text": [
            "/usr/local/lib/python3.6/dist-packages/statsmodels/tools/_testing.py:19: FutureWarning: pandas.util.testing is deprecated. Use the functions in the public API at pandas.testing instead.\n",
            "  import pandas.util.testing as tm\n"
          ],
          "name": "stderr"
        }
      ]
    },
    {
      "cell_type": "code",
      "metadata": {
        "id": "U-aUmvQuK8gE",
        "colab_type": "code",
        "colab": {}
      },
      "source": [
        "def makeDataSet() :\n",
        "  train = pd.read_csv(\"/content/train.csv\")\n",
        "  test = pd.read_csv(\"/content/test.csv\")\n",
        "  train = train.dropna()\n",
        "  test = test.dropna()\n",
        "  train_x = train.drop('type', axis=1, inplace=False)\n",
        "  train_y = train['type']\n",
        "  x_train, x_test, y_train, y_test = train_test_split(train_x, train_y, test_size=0.2, random_state=11)\n",
        "  return x_train, x_test, y_train, y_test, test"
      ],
      "execution_count": 2,
      "outputs": []
    },
    {
      "cell_type": "code",
      "metadata": {
        "id": "Td5H65wWEoCU",
        "colab_type": "code",
        "colab": {}
      },
      "source": [
        "x_train, x_test, y_train, y_test, test = makeDataSet()"
      ],
      "execution_count": 3,
      "outputs": []
    },
    {
      "cell_type": "code",
      "metadata": {
        "id": "vdHH5-2AFN92",
        "colab_type": "code",
        "colab": {
          "base_uri": "https://localhost:8080/",
          "height": 35
        },
        "outputId": "ea92a0dd-7ac7-4aac-d501-0b252921a89c"
      },
      "source": [
        "dt_clf = DecisionTreeClassifier(random_state=99)\n",
        "dt_clf.fit(x_train, y_train)\n",
        "pred = dt_clf.predict(x_test)\n",
        "accuracy_score(y_test, pred)"
      ],
      "execution_count": 4,
      "outputs": [
        {
          "output_type": "execute_result",
          "data": {
            "text/plain": [
              "0.8137650413855464"
            ]
          },
          "metadata": {
            "tags": []
          },
          "execution_count": 4
        }
      ]
    },
    {
      "cell_type": "code",
      "metadata": {
        "id": "S85e25q2QQM4",
        "colab_type": "code",
        "colab": {
          "base_uri": "https://localhost:8080/",
          "height": 107
        },
        "outputId": "2f1b89ea-842a-4e6c-c214-318f0ab765ad"
      },
      "source": [
        "dt_clf.feature_importances_"
      ],
      "execution_count": 9,
      "outputs": [
        {
          "output_type": "execute_result",
          "data": {
            "text/plain": [
              "array([0.01101618, 0.02974193, 0.10191808, 0.10124634, 0.02286637,\n",
              "       0.02899496, 0.07433902, 0.01756477, 0.01742128, 0.02389579,\n",
              "       0.01264006, 0.01559907, 0.01331544, 0.01794883, 0.02932809,\n",
              "       0.01191863, 0.03403317, 0.10157393, 0.03105947, 0.10921487,\n",
              "       0.01533324, 0.17903048])"
            ]
          },
          "metadata": {
            "tags": []
          },
          "execution_count": 9
        }
      ]
    },
    {
      "cell_type": "code",
      "metadata": {
        "id": "1vKlGGErG1xS",
        "colab_type": "code",
        "colab": {
          "base_uri": "https://localhost:8080/",
          "height": 377
        },
        "outputId": "a02dbecb-1a8f-45a4-9eaa-4cbb733eabe7"
      },
      "source": [
        "from sklearn.model_selection import GridSearchCV\n",
        "params = {\n",
        "    'max_depth' : [6,8,10,12,16,20,24]\n",
        "}\n",
        "grid_cv = GridSearchCV(dt_clf, param_grid=params, scoring='accuracy', cv = 5, verbose=1)\n",
        "grid_cv.fit(x_train, y_train)"
      ],
      "execution_count": 5,
      "outputs": [
        {
          "output_type": "stream",
          "text": [
            "Fitting 5 folds for each of 7 candidates, totalling 35 fits\n"
          ],
          "name": "stdout"
        },
        {
          "output_type": "stream",
          "text": [
            "[Parallel(n_jobs=1)]: Using backend SequentialBackend with 1 concurrent workers.\n",
            "[Parallel(n_jobs=1)]: Done  35 out of  35 | elapsed:  2.8min finished\n"
          ],
          "name": "stderr"
        },
        {
          "output_type": "execute_result",
          "data": {
            "text/plain": [
              "GridSearchCV(cv=5, error_score=nan,\n",
              "             estimator=DecisionTreeClassifier(ccp_alpha=0.0, class_weight=None,\n",
              "                                              criterion='gini', max_depth=None,\n",
              "                                              max_features=None,\n",
              "                                              max_leaf_nodes=None,\n",
              "                                              min_impurity_decrease=0.0,\n",
              "                                              min_impurity_split=None,\n",
              "                                              min_samples_leaf=1,\n",
              "                                              min_samples_split=2,\n",
              "                                              min_weight_fraction_leaf=0.0,\n",
              "                                              presort='deprecated',\n",
              "                                              random_state=99,\n",
              "                                              splitter='best'),\n",
              "             iid='deprecated', n_jobs=None,\n",
              "             param_grid={'max_depth': [6, 8, 10, 12, 16, 20, 24]},\n",
              "             pre_dispatch='2*n_jobs', refit=True, return_train_score=False,\n",
              "             scoring='accuracy', verbose=1)"
            ]
          },
          "metadata": {
            "tags": []
          },
          "execution_count": 5
        }
      ]
    },
    {
      "cell_type": "code",
      "metadata": {
        "id": "pUHuuXZ5HNzK",
        "colab_type": "code",
        "colab": {
          "base_uri": "https://localhost:8080/",
          "height": 35
        },
        "outputId": "1bcd4be8-906b-4dd9-d245-0d603499814a"
      },
      "source": [
        "grid_cv.best_score_"
      ],
      "execution_count": 6,
      "outputs": [
        {
          "output_type": "execute_result",
          "data": {
            "text/plain": [
              "0.84233360865974"
            ]
          },
          "metadata": {
            "tags": []
          },
          "execution_count": 6
        }
      ]
    },
    {
      "cell_type": "code",
      "metadata": {
        "id": "x9dVwawHITx6",
        "colab_type": "code",
        "colab": {
          "base_uri": "https://localhost:8080/",
          "height": 35
        },
        "outputId": "7b33718c-a3e5-427c-8a98-ba0f32986b81"
      },
      "source": [
        "grid_cv.best_params_"
      ],
      "execution_count": 7,
      "outputs": [
        {
          "output_type": "execute_result",
          "data": {
            "text/plain": [
              "{'max_depth': 12}"
            ]
          },
          "metadata": {
            "tags": []
          },
          "execution_count": 7
        }
      ]
    },
    {
      "cell_type": "code",
      "metadata": {
        "id": "QwBXf3wII5Bi",
        "colab_type": "code",
        "colab": {
          "base_uri": "https://localhost:8080/",
          "height": 676
        },
        "outputId": "c2040eb7-4aff-4e49-9a40-1396c7d30a98"
      },
      "source": [
        "corr = x_train.corr(method='pearson')\n",
        "sns.set(rc={'figure.figsize':(12,10)})\n",
        "sns.heatmap(corr)"
      ],
      "execution_count": 8,
      "outputs": [
        {
          "output_type": "execute_result",
          "data": {
            "text/plain": [
              "<matplotlib.axes._subplots.AxesSubplot at 0x7f99071cae48>"
            ]
          },
          "metadata": {
            "tags": []
          },
          "execution_count": 8
        },
        {
          "output_type": "display_data",
          "data": {
            "image/png": "[encoded data removed]",
            "text/plain": [
              "<Figure size 864x720 with 2 Axes>"
            ]
          },
          "metadata": {
            "tags": []
          }
        }
      ]
    },
    {
      "cell_type": "code",
      "metadata": {
        "id": "n7DYVvJjSVW6",
        "colab_type": "code",
        "colab": {}
      },
      "source": [
        "from sklearn.decomposition import PCA\n",
        "pca = PCA(n_components=3)"
      ],
      "execution_count": 10,
      "outputs": []
    },
    {
      "cell_type": "code",
      "metadata": {
        "id": "rK7TBbTRTgu_",
        "colab_type": "code",
        "colab": {}
      },
      "source": [
        "from sklearn.preprocessing import StandardScaler\n",
        "scaler = StandardScaler()\n",
        "std_train_x = scaler.fit_transform(x_train)\n",
        "pca_std_train_x = pca.fit_transform(std_train_x)"
      ],
      "execution_count": 12,
      "outputs": []
    },
    {
      "cell_type": "code",
      "metadata": {
        "id": "4ENAaONfRG2E",
        "colab_type": "code",
        "colab": {
          "base_uri": "https://localhost:8080/",
          "height": 143
        },
        "outputId": "4c6854e5-9bef-4538-d629-976c5930ef9e"
      },
      "source": [
        "pca_std_train_x"
      ],
      "execution_count": 23,
      "outputs": [
        {
          "output_type": "execute_result",
          "data": {
            "text/plain": [
              "array([[-0.00831953, -0.01503018, -0.02996359],\n",
              "       [-0.0838429 , -0.01224513, -0.00307428],\n",
              "       [ 0.050332  , -0.00625342,  0.01644581],\n",
              "       ...,\n",
              "       [-0.02932648, -0.0077126 , -0.03685377],\n",
              "       [ 0.06405605, -0.00744493,  0.01986849],\n",
              "       [ 0.07010069,  0.00082757,  0.03379176]])"
            ]
          },
          "metadata": {
            "tags": []
          },
          "execution_count": 23
        }
      ]
    },
    {
      "cell_type": "code",
      "metadata": {
        "id": "DWqjPGmDJ3X4",
        "colab_type": "code",
        "colab": {}
      },
      "source": [
        "from sklearn.ensemble import VotingClassifier\n",
        "from sklearn.linear_model import LogisticRegression\n",
        "from sklearn.neighbors import KNeighborsClassifier"
      ],
      "execution_count": null,
      "outputs": []
    },
    {
      "cell_type": "code",
      "metadata": {
        "id": "q20PuUpYMBw_",
        "colab_type": "code",
        "colab": {}
      },
      "source": [
        "lr_clf = LogisticRegression()\n",
        "knn_clf = KNeighborsClassifier(n_neighbors=8)\n",
        "vo_clf = VotingClassifier(estimators=[('LR', lr_clf), ('KNN', knn_clf)], voting='soft')\n",
        "vo_clf.fit(x_train, y_train)\n",
        "pred = vo_clf.predict(x_test)\n",
        "accuracy_score(y_test, pred)"
      ],
      "execution_count": null,
      "outputs": []
    },
    {
      "cell_type": "code",
      "metadata": {
        "id": "O_O8bBeQMpj6",
        "colab_type": "code",
        "colab": {
          "base_uri": "https://localhost:8080/",
          "height": 53
        },
        "outputId": "ebddd29c-d0a8-4175-9404-514b625f4411"
      },
      "source": [
        "classifiers = [lr_clf, knn_clf]\n",
        "for classifier in classifiers:\n",
        "  classifier.fit(x_train, y_train)\n",
        "  pred = classifier.predict(x_test)\n",
        "  class_name = classifier.__class__.__name__\n",
        "  print('{0} 정확도 : {1:.4f}'.format(class_name, accuracy_score(y_test, pred)))"
      ],
      "execution_count": null,
      "outputs": [
        {
          "output_type": "stream",
          "text": [
            "LogisticRegression 정확도 : 0.2529\n",
            "KNeighborsClassifier 정확도 : 0.2362\n"
          ],
          "name": "stdout"
        }
      ]
    },
    {
      "cell_type": "code",
      "metadata": {
        "id": "fOPNNtgpR2D1",
        "colab_type": "code",
        "colab": {}
      },
      "source": [
        "std_test_x = scaler.fit_transform(x_test)\n",
        "pca_std_test_x = pca.fit_transform(std_test_x)"
      ],
      "execution_count": 25,
      "outputs": []
    },
    {
      "cell_type": "code",
      "metadata": {
        "id": "0HbtpoYTSZm2",
        "colab_type": "code",
        "colab": {}
      },
      "source": [
        "pca_train_x = pca.fit_transform(x_train)\n",
        "pca_test_x = pca.fit_transform(x_test)"
      ],
      "execution_count": 31,
      "outputs": []
    },
    {
      "cell_type": "code",
      "metadata": {
        "id": "K3b3_O2YSKbm",
        "colab_type": "code",
        "colab": {
          "base_uri": "https://localhost:8080/",
          "height": 35
        },
        "outputId": "dd29e98d-49b0-43c0-c124-a5042a48c2c0"
      },
      "source": [
        "from sklearn.ensemble import RandomForestClassifier\n",
        "rf_clf = RandomForestClassifier(random_state=99)\n",
        "rf_clf.fit(x_train, y_train)\n",
        "pred = rf_clf.predict(x_test)\n",
        "accuracy_score(y_test, pred)"
      ],
      "execution_count": 27,
      "outputs": [
        {
          "output_type": "execute_result",
          "data": {
            "text/plain": [
              "0.8751825832927592"
            ]
          },
          "metadata": {
            "tags": []
          },
          "execution_count": 27
        }
      ]
    },
    {
      "cell_type": "code",
      "metadata": {
        "id": "gEwXmFNdNKlP",
        "colab_type": "code",
        "colab": {
          "base_uri": "https://localhost:8080/",
          "height": 35
        },
        "outputId": "83c76540-5edc-4d3a-9764-63aa421873aa"
      },
      "source": [
        "rf_clf.fit(pca_train_x, y_train)\n",
        "pred = rf_clf.predict(pca_test_x)\n",
        "accuracy_score(y_test, pred)"
      ],
      "execution_count": 32,
      "outputs": [
        {
          "output_type": "execute_result",
          "data": {
            "text/plain": [
              "0.10186408847464701"
            ]
          },
          "metadata": {
            "tags": []
          },
          "execution_count": 32
        }
      ]
    },
    {
      "cell_type": "code",
      "metadata": {
        "id": "zXVdQzGTSWdJ",
        "colab_type": "code",
        "colab": {
          "base_uri": "https://localhost:8080/",
          "height": 35
        },
        "outputId": "393b4cca-67bc-4551-d44d-d88a6383967e"
      },
      "source": [
        "rf_clf.fit(pca_std_train_x, y_train)\n",
        "pred = rf_clf.predict(pca_std_test_x)\n",
        "accuracy_score(y_test, pred)"
      ],
      "execution_count": 33,
      "outputs": [
        {
          "output_type": "execute_result",
          "data": {
            "text/plain": [
              "0.26643249634833416"
            ]
          },
          "metadata": {
            "tags": []
          },
          "execution_count": 33
        }
      ]
    },
    {
      "cell_type": "code",
      "metadata": {
        "id": "ZAdldeKpOg9j",
        "colab_type": "code",
        "colab": {}
      },
      "source": [
        "ftr_importances_values = rf_clf.feature_importances_\n",
        "ftr_importances = pd.Series(ftr_importances_values, index=x_train.columns)\n",
        "ftr_top20 = ftr_importances.sort_values(ascending=False)[:20]\n",
        "plt.figure(figsize=(8,6))\n",
        "sns.barplot(x=ftr_top20, y=ftr_top20.index)\n",
        "plt.show()"
      ],
      "execution_count": null,
      "outputs": []
    },
    {
      "cell_type": "code",
      "metadata": {
        "id": "KG078IvRQU90",
        "colab_type": "code",
        "colab": {
          "base_uri": "https://localhost:8080/",
          "height": 35
        },
        "outputId": "0a91a942-bc89-4f57-fcba-35179ff29a61"
      },
      "source": [
        "from sklearn.ensemble import GradientBoostingClassifier\n",
        "import time\n",
        "start_time = time.time()\n",
        "\n",
        "gb_clf = GradientBoostingClassifier(random_state=99)\n",
        "gb_clf.fit(x_train, y_train)\n",
        "gb_pred = gb_clf.predict(x_test)\n",
        "\n",
        "accuracy_score(y_test, gb_pred)\n",
        "#time.time()-start_time"
      ],
      "execution_count": 34,
      "outputs": [
        {
          "output_type": "execute_result",
          "data": {
            "text/plain": [
              "0.39264102385755023"
            ]
          },
          "metadata": {
            "tags": []
          },
          "execution_count": 34
        }
      ]
    },
    {
      "cell_type": "code",
      "metadata": {
        "id": "ONYnnQyPQoO6",
        "colab_type": "code",
        "colab": {}
      },
      "source": [
        "import xgboost as xgb\n",
        "from xgboost import XGBClassifier\n",
        "from sklearn.metrics import log_loss\n",
        "\n",
        "xgb_clf = XGBClassifier(n_estimators=400, learning_rate=0.1, max_depth=3)\n",
        "xgb_clf.fit(x_train, y_train)\n",
        "pred = xgb_clf.predict(x_test)\n",
        "accuracy_score(y_test, pred)"
      ],
      "execution_count": null,
      "outputs": []
    },
    {
      "cell_type": "code",
      "metadata": {
        "id": "GjzP0UhEWhgL",
        "colab_type": "code",
        "colab": {}
      },
      "source": [
        ""
      ],
      "execution_count": null,
      "outputs": []
    }
  ]
}